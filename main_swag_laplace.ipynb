{
 "cells": [
  {
   "cell_type": "markdown",
   "metadata": {},
   "source": [
    "# SWAG-Laplace Example"
   ]
  },
  {
   "cell_type": "code",
   "execution_count": null,
   "metadata": {},
   "outputs": [],
   "source": [
    "import os\n",
    "import pickle\n",
    "import torch\n",
    "import torch.nn as nn\n",
    "\n",
    "from datetime import datetime\n",
    "from torchvision import transforms, datasets\n",
    "from torchvision.models import resnet18\n",
    "from torch.utils.data import DataLoader, random_split\n",
    "from laplace.curvature.asdl import AsdlGGN\n",
    "from laplace.marglik_training import marglik_training\n",
    "from laplace.swag_laplace import SWAGLaplace"
   ]
  },
  {
   "cell_type": "code",
   "execution_count": null,
   "metadata": {},
   "outputs": [],
   "source": [
    "DATA_ROOT = './data'\n",
    "BATCH_SIZE = 128\n",
    "LIKELIHOOD = 'classification'\n",
    "EPOCHS = 100\n",
    "MARGLIK_FREQUENCY = 1\n",
    "N_MODELS = 20\n",
    "\n",
    "# Create a directory to save models if it doesn't exist\n",
    "save_dir = './saved_models'\n",
    "os.makedirs(save_dir, exist_ok=True)"
   ]
  },
  {
   "cell_type": "markdown",
   "metadata": {},
   "source": [
    "### Step 1: Prepare dataset."
   ]
  },
  {
   "cell_type": "code",
   "execution_count": null,
   "metadata": {},
   "outputs": [],
   "source": [
    "transform = transforms.Compose([\n",
    "    transforms.RandomHorizontalFlip(),\n",
    "    transforms.RandomCrop(32, padding=4),\n",
    "    transforms.ToTensor(),\n",
    "    transforms.Normalize((0.5, 0.5, 0.5), (0.5, 0.5, 0.5))\n",
    "])\n",
    "\n",
    "full_dataset = datasets.CIFAR10(root=DATA_ROOT, train=True, download=True, transform=transform)\n",
    "\n",
    "train_size = int(0.8 * len(full_dataset))\n",
    "val_size = len(full_dataset) - train_size\n",
    "train_dataset, val_dataset = random_split(full_dataset, [train_size, val_size])\n",
    "\n",
    "train_loader = DataLoader(train_dataset, batch_size=BATCH_SIZE, shuffle=True, drop_last=True)\n",
    "val_loader = DataLoader(val_dataset, batch_size=BATCH_SIZE, shuffle=False, drop_last=True)"
   ]
  },
  {
   "cell_type": "markdown",
   "metadata": {},
   "source": [
    "### Step 2: Initialize and train the model."
   ]
  },
  {
   "cell_type": "code",
   "execution_count": null,
   "metadata": {},
   "outputs": [],
   "source": [
    "model = resnet18(weights='IMAGENET1K_V1')\n",
    "\n",
    "lap, trained_model, train_loss, val_loss = marglik_training(\n",
    "    model=model,\n",
    "    train_loader=train_loader,\n",
    "    likelihood=LIKELIHOOD,\n",
    "    n_epochs=EPOCHS,\n",
    "    marglik_frequency=MARGLIK_FREQUENCY,\n",
    "    hessian_structure='diag',\n",
    "    backend=AsdlGGN,\n",
    "    progress_bar=True\n",
    ")\n",
    "\n",
    "timestamp = datetime.now().strftime(\"%Y%m%d_%H%M%S\")\n",
    "model_path = f\"{save_dir}/marglik_trained_model_{timestamp}.pkl\"\n",
    "\n",
    "with open(model_path, 'wb') as f:\n",
    "    pickle.dump({\n",
    "        'model_state': trained_model.state_dict(),\n",
    "        'training_params': {\n",
    "            'epochs': EPOCHS,\n",
    "            'likelihood': LIKELIHOOD,\n",
    "            'marglik_frequency': MARGLIK_FREQUENCY\n",
    "        }\n",
    "    }, f)\n",
    "\n",
    "print(f\"Marglik trained model saved to {model_path}\")"
   ]
  },
  {
   "cell_type": "markdown",
   "metadata": {},
   "source": [
    "### Step 3: Initialize and train SWAG Laplace."
   ]
  },
  {
   "cell_type": "code",
   "execution_count": null,
   "metadata": {},
   "outputs": [],
   "source": [
    "swag_laplace = SWAGLaplace(\n",
    "    model=model,\n",
    "    likelihood=LIKELIHOOD,\n",
    "    n_models=N_MODELS,\n",
    "    start_epoch=0,\n",
    "    swa_freq=1,\n",
    ")\n",
    "swag_laplace.fit(\n",
    "    train_loader,\n",
    "    optimizer=torch.optim.Adam(model.parameters(), lr=1e-3),\n",
    "    criterion=nn.CrossEntropyLoss(),\n",
    "    epochs=25,\n",
    ")\n",
    "\n",
    "train_accuracy = swag_laplace.evaluate(train_loader)\n",
    "val_accuracy = swag_laplace.evaluate(val_loader)\n",
    "test_inputs, _ = next(iter(val_loader))\n",
    "predictions, uncertainties = swag_laplace(\n",
    "    test_inputs,\n",
    "    pred_type='glm',\n",
    "    link_approx='mc',   # or 'probit', depending on your use case\n",
    "    n_samples=100       # set the number of samples as needed\n",
    ")\n",
    "\n",
    "print(f'Train Accuracy: {train_accuracy:.2f}%')\n",
    "print(f'Validation Accuracy: {val_accuracy:.2f}%')\n",
    "print(f'Predictions shape: {predictions.shape}')\n",
    "print(f'Uncertainties shape: {uncertainties.shape}')"
   ]
  },
  {
   "cell_type": "code",
   "execution_count": null,
   "metadata": {},
   "outputs": [],
   "source": []
  }
 ],
 "metadata": {
  "kernelspec": {
   "display_name": ".venv",
   "language": "python",
   "name": "python3"
  },
  "language_info": {
   "codemirror_mode": {
    "name": "ipython",
    "version": 3
   },
   "file_extension": ".py",
   "mimetype": "text/x-python",
   "name": "python",
   "nbconvert_exporter": "python",
   "pygments_lexer": "ipython3",
   "version": "3.13.3"
  }
 },
 "nbformat": 4,
 "nbformat_minor": 2
}
