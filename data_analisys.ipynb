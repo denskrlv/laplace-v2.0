{
 "cells": [
  {
   "cell_type": "code",
   "execution_count": 7,
   "id": "27eb124a",
   "metadata": {},
   "outputs": [],
   "source": [
    "import sys, os\n",
    "import warnings\n",
    "from collections import defaultdict\n",
    "\n",
    "import numpy as np\n",
    "import pandas as pd\n",
    "import matplotlib.pyplot as plt\n"
   ]
  },
  {
   "cell_type": "code",
   "execution_count": 12,
   "id": "dbc5360f",
   "metadata": {},
   "outputs": [],
   "source": [
    "folders   = [\n",
    "    \"tests/results/MNIST-OOD\",\n",
    "    # \"tests/results/R-MNIST\",\n",
    "    # \"tests/results/CIFAR-10-C\",\n",
    "    \"tests/results/CIFAR-10-OOD\"\n",
    "]\n",
    "methods = [\"map\", \"ensemble\", \"csghmc\", \"swg\", \"laplace_all\", \"laplace_last_layer\", \"subspace\", \"swag_laplace\", \"bbb\"]\n",
    "\n",
    "def get_buckets(folders, methods):\n",
    "    buckets = []\n",
    "    for folder in folders:\n",
    "        bucket = defaultdict(list)\n",
    "        for fname in os.listdir(folder):\n",
    "            hit = next((m for m in methods if fname.startswith(m)), None)\n",
    "            if hit:\n",
    "                bucket[hit].append(os.path.join(folder, fname))\n",
    "        buckets.append(bucket)\n",
    "    return buckets\n",
    "\n",
    "buckets = get_buckets(folders, methods)"
   ]
  },
  {
   "cell_type": "code",
   "execution_count": 13,
   "id": "1a323c17",
   "metadata": {},
   "outputs": [
    {
     "data": {
      "text/plain": [
       "[defaultdict(list,\n",
       "             {'ensemble': ['tests/results/MNIST-OOD/ensemble_13.npy',\n",
       "               'tests/results/MNIST-OOD/ensemble_6.npy',\n",
       "               'tests/results/MNIST-OOD/ensemble_12.npy',\n",
       "               'tests/results/MNIST-OOD/ensemble_972394.npy',\n",
       "               'tests/results/MNIST-OOD/ensemble_523.npy'],\n",
       "              'map': ['tests/results/MNIST-OOD/map_13.npy',\n",
       "               'tests/results/MNIST-OOD/map_12.npy',\n",
       "               'tests/results/MNIST-OOD/map_972394.npy',\n",
       "               'tests/results/MNIST-OOD/map_6.npy',\n",
       "               'tests/results/MNIST-OOD/map_523.npy'],\n",
       "              'laplace_last_layer': ['tests/results/MNIST-OOD/laplace_last_layer_kron_523.npy',\n",
       "               'tests/results/MNIST-OOD/laplace_last_layer_kron_13.npy',\n",
       "               'tests/results/MNIST-OOD/laplace_last_layer_kron_6.npy',\n",
       "               'tests/results/MNIST-OOD/laplace_last_layer_kron_12.npy',\n",
       "               'tests/results/MNIST-OOD/laplace_last_layer_kron_972394.npy'],\n",
       "              'bbb': ['tests/results/MNIST-OOD/bbb_6.npy',\n",
       "               'tests/results/MNIST-OOD/bbb_972394.npy',\n",
       "               'tests/results/MNIST-OOD/bbb_523.npy',\n",
       "               'tests/results/MNIST-OOD/bbb_13.npy',\n",
       "               'tests/results/MNIST-OOD/bbb_12.npy'],\n",
       "              'swg': ['tests/results/MNIST-OOD/swg_6.npy'],\n",
       "              'csghmc': ['tests/results/MNIST-OOD/csghmc_972394.npy',\n",
       "               'tests/results/MNIST-OOD/csghmc_13.npy',\n",
       "               'tests/results/MNIST-OOD/csghmc_12.npy',\n",
       "               'tests/results/MNIST-OOD/csghmc_523.npy',\n",
       "               'tests/results/MNIST-OOD/csghmc_6.npy'],\n",
       "              'swag_laplace': ['tests/results/MNIST-OOD/swag_laplace_6.npy'],\n",
       "              'subspace': ['tests/results/MNIST-OOD/subspace_6.npy']}),\n",
       " defaultdict(list,\n",
       "             {'ensemble': ['tests/results/CIFAR-10-OOD/ensemble_13.npy',\n",
       "               'tests/results/CIFAR-10-OOD/ensemble_6.npy',\n",
       "               'tests/results/CIFAR-10-OOD/ensemble_12.npy',\n",
       "               'tests/results/CIFAR-10-OOD/ensemble_972394.npy',\n",
       "               'tests/results/CIFAR-10-OOD/ensemble_523.npy'],\n",
       "              'map': ['tests/results/CIFAR-10-OOD/map_13.npy',\n",
       "               'tests/results/CIFAR-10-OOD/map_12.npy',\n",
       "               'tests/results/CIFAR-10-OOD/map_972394.npy',\n",
       "               'tests/results/CIFAR-10-OOD/map_6.npy',\n",
       "               'tests/results/CIFAR-10-OOD/map_523.npy'],\n",
       "              'laplace_last_layer': ['tests/results/CIFAR-10-OOD/laplace_last_layer_kron_523.npy',\n",
       "               'tests/results/CIFAR-10-OOD/laplace_last_layer_kron_13.npy',\n",
       "               'tests/results/CIFAR-10-OOD/laplace_last_layer_kron_6.npy',\n",
       "               'tests/results/CIFAR-10-OOD/laplace_last_layer_kron_12.npy',\n",
       "               'tests/results/CIFAR-10-OOD/laplace_last_layer_kron_972394.npy'],\n",
       "              'bbb': ['tests/results/CIFAR-10-OOD/bbb_6.npy',\n",
       "               'tests/results/CIFAR-10-OOD/bbb_972394.npy',\n",
       "               'tests/results/CIFAR-10-OOD/bbb_523.npy',\n",
       "               'tests/results/CIFAR-10-OOD/bbb_13.npy',\n",
       "               'tests/results/CIFAR-10-OOD/bbb_12.npy'],\n",
       "              'swg': ['tests/results/CIFAR-10-OOD/swg_6.npy'],\n",
       "              'csghmc': ['tests/results/CIFAR-10-OOD/csghmc_972394.npy',\n",
       "               'tests/results/CIFAR-10-OOD/csghmc_13.npy',\n",
       "               'tests/results/CIFAR-10-OOD/csghmc_12.npy',\n",
       "               'tests/results/CIFAR-10-OOD/csghmc_523.npy',\n",
       "               'tests/results/CIFAR-10-OOD/csghmc_6.npy']})]"
      ]
     },
     "execution_count": 13,
     "metadata": {},
     "output_type": "execute_result"
    }
   ],
   "source": [
    "buckets"
   ]
  },
  {
   "cell_type": "code",
   "execution_count": 16,
   "id": "90d616c2",
   "metadata": {},
   "outputs": [
    {
     "name": "stdout",
     "output_type": "stream",
     "text": [
      "| Method             | Confidence   | AUROC    | Test time (s)   |\n",
      "|:-------------------|:-------------|:---------|:----------------|\n",
      "| map                | 75.0±0.6     | 96.5±0.2 | 0.64±0.01       |\n",
      "| ensemble           | 65.7±0.5     | 97.5±0.0 | 0.68±0.05       |\n",
      "| csghmc             | 69.2±3.2     | 96.1±0.3 | 0.66±0.01       |\n",
      "| swg                | 76.8±0.0     | 96.3±0.0 | 1.25±0.0        |\n",
      "| laplace_all        | nan±nan      | nan±nan  | nan±nan         |\n",
      "| laplace_last_layer | 43.1±0.9     | 95.7±0.4 | 0.68±0.04       |\n",
      "| subspace           | 68.2±0.0     | 95.8±0.0 | 55.91±0.0       |\n",
      "| swag_laplace       | 11.8±0.0     | 95.9±0.0 | 56.37±0.0       |\n",
      "| bbb                | 73.3±1.4     | 95.9±0.3 | 1.76±0.01       |\n"
     ]
    }
   ],
   "source": [
    "def get_results(buckets, methods):\n",
    "    tables=[]\n",
    "    for bucket in buckets:\n",
    "        results = []\n",
    "        for method in methods:\n",
    "            runs = bucket.get(method, [])\n",
    "            conf_runs = []\n",
    "            auroc_runs = []\n",
    "            time_runs = []\n",
    "            for path in runs:\n",
    "                arr = np.load(path, allow_pickle=True)[1:]\n",
    "                conf_runs.append(np.mean([d[\"conf\"] for d in arr]))\n",
    "                auroc_runs.append(np.mean([d[\"auroc\"] for d in arr]))\n",
    "                time_runs.append(np.mean([d[\"test_time\"] for d in arr]))\n",
    "            with warnings.catch_warnings(action='ignore'):\n",
    "                results.append({\n",
    "                    \"Method\": method,\n",
    "                    \"conf_mean\": np.mean(conf_runs),\n",
    "                    \"conf_std\": np.std(conf_runs),\n",
    "                    \"auroc_mean\": np.mean(auroc_runs),\n",
    "                    \"auroc_std\": np.std(auroc_runs),\n",
    "                    \"time_mean\": np.mean(time_runs),\n",
    "                    \"time_std\": np.std(time_runs),\n",
    "                })\n",
    "        df = pd.DataFrame(results)\n",
    "        df[\"Confidence\"] = (df[\"conf_mean\"] * 100).round(1).astype(str) + \"±\" + (df[\"conf_std\"] * 100).round(1).astype(str)\n",
    "        df[\"AUROC\"]      = (df[\"auroc_mean\"] * 100).round(1).astype(str) + \"±\" + (df[\"auroc_std\"] * 100).round(1).astype(str)\n",
    "        df[\"Test time (s)\"] = df[\"time_mean\"].round(2).astype(str) + \"±\" + df[\"time_std\"].round(2).astype(str)\n",
    "        df = df.set_index(\"Method\").loc[methods].reset_index()\n",
    "        table = df[[\"Method\", \"Confidence\", \"AUROC\", \"Test time (s)\"]]\n",
    "        tables.append(table)\n",
    "    return tables\n",
    "\n",
    "\n",
    "tables = get_results(buckets, methods)\n",
    "print(tables[0].to_markdown(index=False))\n"
   ]
  },
  {
   "cell_type": "code",
   "execution_count": 15,
   "id": "ff724543",
   "metadata": {},
   "outputs": [
    {
     "data": {
      "text/plain": [
       "array([{'conf': 0.9860426187515259, 'test_time': 18.564986328125},\n",
       "       {'conf': 0.7627784609794617, 'test_time': 122.63265625, 'auroc': 0.9225487640625001, 'fpr95': 0.316875},\n",
       "       {'conf': 0.5911074280738831, 'test_time': 22.581904296875, 'auroc': 0.98396110625, 'fpr95': 0.0808},\n",
       "       {'conf': 0.6924473643302917, 'test_time': 22.50443359375, 'auroc': 0.9686708624999999, 'fpr95': 0.1665}],\n",
       "      dtype=object)"
      ]
     },
     "execution_count": 15,
     "metadata": {},
     "output_type": "execute_result"
    }
   ],
   "source": [
    "# data = np.load(\"tests/results/MNIST-OOD/ensemble_13.npy\", allow_pickle=True)\n",
    "data = np.load(\"tests/results/MNIST-OOD/subspace_6.npy\", allow_pickle=True)\n",
    "\n",
    "data"
   ]
  },
  {
   "cell_type": "code",
   "execution_count": null,
   "id": "95ea87ce",
   "metadata": {},
   "outputs": [],
   "source": []
  }
 ],
 "metadata": {
  "kernelspec": {
   "display_name": "frmdl",
   "language": "python",
   "name": "python3"
  },
  "language_info": {
   "codemirror_mode": {
    "name": "ipython",
    "version": 3
   },
   "file_extension": ".py",
   "mimetype": "text/x-python",
   "name": "python",
   "nbconvert_exporter": "python",
   "pygments_lexer": "ipython3",
   "version": "3.11.0"
  }
 },
 "nbformat": 4,
 "nbformat_minor": 5
}
