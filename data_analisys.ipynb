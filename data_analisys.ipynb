{
 "cells": [
  {
   "cell_type": "code",
   "execution_count": 4,
   "id": "27eb124a",
   "metadata": {},
   "outputs": [],
   "source": [
    "import sys, os\n",
    "import warnings\n",
    "from collections import defaultdict\n",
    "\n",
    "import numpy as np\n",
    "import pandas as pd\n",
    "import matplotlib.pyplot as plt\n"
   ]
  },
  {
   "cell_type": "code",
   "execution_count": 11,
   "id": "dbc5360f",
   "metadata": {},
   "outputs": [],
   "source": [
    "folders   = [\"tests/results/MNIST-OOD\", \"tests/results/R-MNIST\"]\n",
    "methods = [\"map\", \"ensemble\", \"csghmc\", \"swg\", \"laplace_all\", \"laplace_last_layer\", \"subspace\", \"swag_laplace\"]\n",
    "\n",
    "def get_buckets(folders, methods):\n",
    "    buckets = []\n",
    "    for folder in folders:\n",
    "        bucket = defaultdict(list)\n",
    "        for fname in os.listdir(folder):\n",
    "            hit = next((m for m in methods if fname.startswith(m)), None)\n",
    "            if hit:\n",
    "                bucket[hit].append(os.path.join(folder, fname))\n",
    "        buckets.append(bucket)\n",
    "    return buckets\n",
    "\n",
    "buckets = get_buckets(folders, methods)"
   ]
  },
  {
   "cell_type": "code",
   "execution_count": 15,
   "id": "90d616c2",
   "metadata": {},
   "outputs": [
    {
     "name": "stdout",
     "output_type": "stream",
     "text": [
      "| Method             | Confidence   | AUROC    | Test time (s)   |\n",
      "|:-------------------|:-------------|:---------|:----------------|\n",
      "| map                | 75.0±0.6     | 96.5±0.2 | 7.35±0.51       |\n",
      "| ensemble           | 65.7±0.5     | 97.5±0.0 | 9.1±0.61        |\n",
      "| csghmc             | 69.2±3.2     | 96.1±0.3 | 11.9±0.69       |\n",
      "| swg                | nan±nan      | nan±nan  | nan±nan         |\n",
      "| laplace_all        | nan±nan      | nan±nan  | nan±nan         |\n",
      "| laplace_last_layer | 43.1±0.9     | 95.7±0.4 | 7.18±0.21       |\n",
      "| subspace           | nan±nan      | nan±nan  | nan±nan         |\n",
      "| swag_laplace       | nan±nan      | nan±nan  | nan±nan         |\n"
     ]
    }
   ],
   "source": [
    "bucket = buckets[0]\n",
    "\n",
    "results = []\n",
    "for method in methods:\n",
    "    runs = bucket.get(method, [])\n",
    "    conf_runs = []\n",
    "    auroc_runs = []\n",
    "    time_runs = []\n",
    "    for path in runs:\n",
    "        arr = np.load(path, allow_pickle=True)[1:]\n",
    "        conf_runs.append(np.mean([d[\"conf\"] for d in arr]))\n",
    "        auroc_runs.append(np.mean([d[\"auroc\"] for d in arr]))\n",
    "        time_runs.append(np.mean([d[\"test_time\"] for d in arr]))\n",
    "    with warnings.catch_warnings(action='ignore'):\n",
    "        results.append({\n",
    "            \"Method\": method,\n",
    "            \"conf_mean\": np.mean(conf_runs),\n",
    "            \"conf_std\": np.std(conf_runs),\n",
    "            \"auroc_mean\": np.mean(auroc_runs),\n",
    "            \"auroc_std\": np.std(auroc_runs),\n",
    "            \"time_mean\": np.mean(time_runs),\n",
    "            \"time_std\": np.std(time_runs),\n",
    "        })\n",
    "\n",
    "df = pd.DataFrame(results)\n",
    "df[\"Confidence\"] = (df[\"conf_mean\"] * 100).round(1).astype(str) + \"±\" + (df[\"conf_std\"] * 100).round(1).astype(str)\n",
    "df[\"AUROC\"]      = (df[\"auroc_mean\"] * 100).round(1).astype(str) + \"±\" + (df[\"auroc_std\"] * 100).round(1).astype(str)\n",
    "df[\"Test time (s)\"] = df[\"time_mean\"].round(2).astype(str) + \"±\" + df[\"time_std\"].round(2).astype(str)\n",
    "df = df.set_index(\"Method\").loc[methods].reset_index()\n",
    "table = df[[\"Method\", \"Confidence\", \"AUROC\", \"Test time (s)\"]]\n",
    "print(table.to_markdown(index=False))\n"
   ]
  },
  {
   "cell_type": "code",
   "execution_count": null,
   "id": "ff724543",
   "metadata": {},
   "outputs": [],
   "source": []
  },
  {
   "cell_type": "code",
   "execution_count": null,
   "id": "95ea87ce",
   "metadata": {},
   "outputs": [],
   "source": []
  }
 ],
 "metadata": {
  "kernelspec": {
   "display_name": "frmdl",
   "language": "python",
   "name": "python3"
  },
  "language_info": {
   "codemirror_mode": {
    "name": "ipython",
    "version": 3
   },
   "file_extension": ".py",
   "mimetype": "text/x-python",
   "name": "python",
   "nbconvert_exporter": "python",
   "pygments_lexer": "ipython3",
   "version": "3.11.0"
  }
 },
 "nbformat": 4,
 "nbformat_minor": 5
}
